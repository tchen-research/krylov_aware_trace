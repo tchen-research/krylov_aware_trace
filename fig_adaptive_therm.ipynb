{
 "cells": [
  {
   "cell_type": "code",
   "execution_count": 1,
   "id": "0969ba01",
   "metadata": {},
   "outputs": [],
   "source": [
    "import numpy as np\n",
    "import scipy as sp\n",
    "from scipy import io,integrate,sparse\n",
    "import matplotlib.pyplot as plt\n",
    "from matplotlib.lines import Line2D\n",
    "from matplotlib.patches import Rectangle,Circle\n",
    "\n",
    "from scipy.stats import chi2\n",
    "from scipy.io import loadmat\n",
    "import time\n",
    "\n",
    "from lanczos_bin import *\n",
    "#from lanczos_bin import mystep,distribution\n",
    "\n",
    "from IPython.display import clear_output\n",
    "np.set_printoptions(linewidth=300)\n",
    "%load_ext autoreload\n",
    "%autoreload 2"
   ]
  },
  {
   "cell_type": "code",
   "execution_count": 2,
   "id": "e8ca71fa",
   "metadata": {},
   "outputs": [],
   "source": [
    "plt.rcParams['text.latex.preamble'] = r'\\renewcommand{\\vec}{\\mathbf}'\n",
    "plt.rc('text', usetex=True)\n",
    "plt.rc('font', family='serif')"
   ]
  },
  {
   "cell_type": "code",
   "execution_count": 3,
   "id": "5dada326",
   "metadata": {},
   "outputs": [],
   "source": [
    "# Log determinant of ThermomechTC matrix\n",
    "P = loadmat('therm.mat')\n",
    "A = P['A']\n",
    "\n",
    "delta = 0.05\n",
    "b = 2\n",
    "n = 35\n",
    "f = lambda x : np.log(x)\n",
    "texact = -546787\n"
   ]
  },
  {
   "cell_type": "code",
   "execution_count": 4,
   "id": "e19a4b0d",
   "metadata": {},
   "outputs": [
    {
     "name": "stdout",
     "output_type": "stream",
     "text": [
      "4: trial 49\n"
     ]
    }
   ],
   "source": [
    "ntrials = 50\n",
    "ps =  range(5,10)\n",
    "KRY = np.zeros((4,ntrials*len(ps)))\n",
    "HPP = np.zeros((4,ntrials*len(ps)))\n",
    "\n",
    "k = 0\n",
    "np.random.seed(0)\n",
    "for (i,p) in enumerate(ps):\n",
    "    for j in range(ntrials):\n",
    "        print(f'{i}: trial {j}')\n",
    "        clear_output(wait=True)\n",
    "        \n",
    "        epsilon = abs(texact) * 2**(-p)\n",
    "        t, c, r = ada_krylov(A,f,b,n,epsilon,delta)\n",
    "        KRY[0,k] = abs(t-texact)/abs(texact)\n",
    "        KRY[1,k] = c+r\n",
    "        KRY[2,k] = c\n",
    "        KRY[3,k] = r\n",
    "        \n",
    "        t, c, r = ada_hpp(A,f,n,epsilon,delta)\n",
    "        HPP[0,k] = abs(t-texact)/abs(texact)\n",
    "        HPP[1,k] = c+r\n",
    "        HPP[2,k] = c\n",
    "        HPP[3,k] = r\n",
    "        \n",
    "        k = k + 1"
   ]
  },
  {
   "cell_type": "code",
   "execution_count": 9,
   "id": "2010e878-b73e-44db-a013-39c0efb9afde",
   "metadata": {},
   "outputs": [
    {
     "data": {
      "image/png": "[encoded data removed]",
      "text/plain": [
       "<Figure size 576x324 with 1 Axes>"
      ]
     },
     "metadata": {
      "needs_background": "light"
     },
     "output_type": "display_data"
    }
   ],
   "source": [
    "fig,axs = plt.subplots(1,1,figsize=(8,4.5))\n",
    "axs = [axs]\n",
    "\n",
    "\n",
    "axs[0].scatter(KRY[1,:],abs(KRY[0,:]),alpha=.3,c='black',label='Krylov-aware')\n",
    "axs[0].scatter(HPP[1,:],abs(HPP[0,:]),alpha=.3,c='none',marker=\"s\",edgecolors='black',label='A-Hutch++')\n",
    "\n",
    "\n",
    "axs[0].set_yscale('log')\n",
    "axs[0].set_xscale('log')\n",
    "axs[0].set_xticks([200,1000,2000])\n",
    "axs[0].set_xticklabels([200,1000,2000])\n",
    "\n",
    "plt.xlabel(\"matrix-vector products\")\n",
    "plt.ylabel(\"relative error\")\n",
    "\n",
    "plt.legend()\n",
    "\n",
    "plt.savefig('imgs/thermo-logdet.pdf')"
   ]
  },
  {
   "cell_type": "code",
   "execution_count": 7,
   "id": "36274427",
   "metadata": {},
   "outputs": [
    {
     "name": "stdout",
     "output_type": "stream",
     "text": [
      "[[   5    6    3   74  105  179    3    3  210  105  315]\n",
      " [   6    6    4   74  140  214    3    4  210  140  350]\n",
      " [   7    6    8   74  280  354    3    8  210  280  490]\n",
      " [   8    6   19   74  665  739    3   19  210  665  875]\n",
      " [   9    6   55   74 1925 1999    3   55  210 1925 2135]]\n"
     ]
    }
   ],
   "source": [
    "lp = len(ps)\n",
    "\n",
    "Kdfl = np.reshape(KRY[2,:],(lp,ntrials))\n",
    "Krem = np.reshape(KRY[3,:],(lp,ntrials))\n",
    "Kmd  = np.mean(Kdfl,axis=1)\n",
    "Kmr  = np.mean(Krem,axis=1)\n",
    "\n",
    "Hdfl = np.reshape(HPP[2,:],(lp,ntrials))\n",
    "Hrem = np.reshape(HPP[3,:],(lp,ntrials))\n",
    "Hmd  = np.mean(Hdfl,axis=1)\n",
    "Hmr  = np.mean(Hrem,axis=1)\n",
    "\n",
    "dat = np.zeros((lp,11))\n",
    "dat[:,0] = np.array(ps)[:lp]\n",
    "dat[:,1] = Kmd - (n-1)*b\n",
    "dat[:,2] = Kmr/n\n",
    "dat[:,3] = Kmd\n",
    "dat[:,4] = Kmr\n",
    "dat[:,5] = Kmd+Kmr\n",
    "dat[:,6] = Hmd/(2*n)\n",
    "dat[:,7] = Hmr/n\n",
    "dat[:,8] = Hmd\n",
    "dat[:,9] = Hmr\n",
    "dat[:,10] = Hmd+Hmr\n",
    "\n",
    "np.set_printoptions(precision=4)\n",
    "np.set_printoptions(linewidth=160)\n",
    "np.set_printoptions(suppress=True)\n",
    "print(np.round(dat).astype(int))\n"
   ]
  },
  {
   "cell_type": "code",
   "execution_count": null,
   "id": "8b3b8ed6-46ba-46b7-9b38-9d51abb1320f",
   "metadata": {},
   "outputs": [],
   "source": []
  }
 ],
 "metadata": {
  "kernelspec": {
   "display_name": "Python 3 (ipykernel)",
   "language": "python",
   "name": "python3"
  },
  "language_info": {
   "codemirror_mode": {
    "name": "ipython",
    "version": 3
   },
   "file_extension": ".py",
   "mimetype": "text/x-python",
   "name": "python",
   "nbconvert_exporter": "python",
   "pygments_lexer": "ipython3",
   "version": "3.10.9"
  }
 },
 "nbformat": 4,
 "nbformat_minor": 5
}
