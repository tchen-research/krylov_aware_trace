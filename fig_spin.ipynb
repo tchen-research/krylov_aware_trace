{
 "cells": [
  {
   "cell_type": "code",
   "execution_count": 1,
   "metadata": {},
   "outputs": [],
   "source": [
    "import numpy as np\n",
    "import scipy as sp\n",
    "from scipy import io,integrate,sparse\n",
    "import matplotlib.pyplot as plt\n",
    "from matplotlib.lines import Line2D\n",
    "from matplotlib.patches import Rectangle,Circle\n",
    "\n",
    "from lanczos_bin import *\n",
    "#from lanczos_bin import mystep,distribution\n",
    "\n",
    "from IPython.display import clear_output\n",
    "np.set_printoptions(linewidth=300)\n",
    "%load_ext autoreload\n",
    "%autoreload 2"
   ]
  },
  {
   "cell_type": "code",
   "execution_count": 2,
   "metadata": {},
   "outputs": [],
   "source": [
    "plt.rcParams['text.latex.preamble'] = r'\\renewcommand{\\vec}{\\mathbf}'\n",
    "plt.rc('text', usetex=True)\n",
    "plt.rc('font', family='serif')"
   ]
  },
  {
   "cell_type": "code",
   "execution_count": 3,
   "metadata": {},
   "outputs": [],
   "source": [
    "s = 1/2\n",
    "M = int(2*s+1)\n",
    "\n",
    "N = 20\n",
    "n = M**N"
   ]
  },
  {
   "cell_type": "code",
   "execution_count": 4,
   "metadata": {},
   "outputs": [],
   "source": [
    "J = 1\n",
    "h = .3*J\n",
    "\n",
    "Jz_T = h*np.ones(N)\n",
    "J_T = np.zeros((N,N))\n",
    "for i in range(N):\n",
    "    for j in range(N):\n",
    "        if np.abs(i-j)==1: # horizontal neighbor\n",
    "            J_T[i,j] = J\n",
    "  "
   ]
  },
  {
   "cell_type": "code",
   "execution_count": 5,
   "metadata": {},
   "outputs": [],
   "source": [
    "H_T = get_hamiltonian(J_T,J_T,Jz_T,s).tosparse()"
   ]
  },
  {
   "cell_type": "code",
   "execution_count": 6,
   "metadata": {},
   "outputs": [
    {
     "data": {
      "text/plain": [
       "(1048576, 1048576)"
      ]
     },
     "execution_count": 6,
     "metadata": {},
     "output_type": "execute_result"
    }
   ],
   "source": [
    "H_T.shape"
   ]
  },
  {
   "cell_type": "code",
   "execution_count": 7,
   "metadata": {},
   "outputs": [],
   "source": [
    "βs = 1/np.logspace(-2.5,3,200)"
   ]
  },
  {
   "cell_type": "code",
   "execution_count": 8,
   "metadata": {},
   "outputs": [],
   "source": [
    "#Zβ = np.sum(np.exp(-βs[:,None]*(lam-E0)),axis=1)\n",
    "\n",
    "#lam = np.linalg.eigvalsh(H_T.A)\n",
    "#E0 = np.min(lam)\n",
    "E0,_ = sp.sparse.linalg.eigsh(H_T,1,which='SA',tol=1e-5)\n",
    "\n",
    "k = np.arange(N)+1\n",
    "λk = h - 2*J*np.cos(k*np.pi/(N+1))\n",
    "\n",
    "Zβ_exact = np.zeros_like(βs)\n",
    "for i,β in enumerate(βs):\n",
    "    Zβ_exact[i] = (β*N*h/2) + np.sum(np.logaddexp(0,-β*λk))\n",
    "\n",
    "Zβ = np.exp(Zβ_exact+βs*E0)"
   ]
  },
  {
   "cell_type": "code",
   "execution_count": 9,
   "metadata": {},
   "outputs": [
    {
     "data": {
      "image/png": "[encoded data removed]",
      "text/plain": [
       "<Figure size 432x288 with 1 Axes>"
      ]
     },
     "metadata": {
      "needs_background": "light"
     },
     "output_type": "display_data"
    }
   ],
   "source": [
    "plt.plot(1/βs,Zβ)\n",
    "#plt.plot(1/βs,np.exp(Zβ_exact+βs*E0),ls='--')\n",
    "\n",
    "#plt.plot(1/βs,np.log(Zβ)-βs*E0)\n",
    "#plt.plot(1/βs,Zβ_exact,ls='--')\n",
    "\n",
    "plt.xscale('log')"
   ]
  },
  {
   "cell_type": "code",
   "execution_count": 10,
   "metadata": {},
   "outputs": [],
   "source": [
    "cost = lambda b,q,n1,m,n2: (q+n1)*b + m*n2\n",
    "\n",
    "n_trials = 100"
   ]
  },
  {
   "cell_type": "code",
   "execution_count": 11,
   "metadata": {},
   "outputs": [],
   "source": [
    "experiments = [\n",
    "    {'params':(8,30,50,0,0),\n",
    "     'label':'(i)',\n",
    "     'ls':'-.'},\n",
    "    {'params':(0,0,0,13,50),\n",
    "     'label':'(ii)',\n",
    "     'ls':'--'},\n",
    "    {'params':(8,30,50,13,50),\n",
    "     'label':'(iii)',\n",
    "     'ls':':'},\n",
    "    {'params':(4,30,50,6,50),\n",
    "     'label':'(iv)',\n",
    "     'ls':'-'},\n",
    "]"
   ]
  },
  {
   "cell_type": "code",
   "execution_count": 12,
   "metadata": {},
   "outputs": [
    {
     "name": "stdout",
     "output_type": "stream",
     "text": [
      "(i), cost: 640\n",
      "(ii), cost: 650\n",
      "(iii), cost: 1290\n",
      "(iv), cost: 620\n"
     ]
    }
   ],
   "source": [
    "for i,exper in enumerate(experiments):\n",
    "    params = exper['params']\n",
    "    print(f'{exper[\"label\"]}, cost: {cost(*params)}')"
   ]
  },
  {
   "cell_type": "code",
   "execution_count": null,
   "metadata": {},
   "outputs": [
    {
     "name": "stdout",
     "output_type": "stream",
     "text": [
      "(iii), iter: 15/100\n"
     ]
    }
   ],
   "source": [
    "Zβs = [np.zeros((n_trials,len(βs))) for exper in experiments]\n",
    "\n",
    "for i,exper in enumerate(experiments):\n",
    "                         \n",
    "    params = exper['params']\n",
    "\n",
    "    for j in range(n_trials):\n",
    "        print(f'{exper[\"label\"]}, iter: {j}/{n_trials}')\n",
    "        clear_output(wait=True)\n",
    "\n",
    "        Θ,W = krylov_trace_quadrature(H_T,*params)\n",
    "        Zβs[i][j] = np.real(np.exp(-βs[:,None]*(Θ-E0))@W)"
   ]
  },
  {
   "cell_type": "code",
   "execution_count": 14,
   "metadata": {},
   "outputs": [],
   "source": [
    "np.save('fig_spin_data',Zβs)\n",
    "Zβs = np.load('fig_spin_data.npy')"
   ]
  },
  {
   "cell_type": "code",
   "execution_count": 15,
   "metadata": {},
   "outputs": [
    {
     "data": {
      "image/png": "[encoded data removed]",
      "text/plain": [
       "<Figure size 360x252 with 1 Axes>"
      ]
     },
     "metadata": {
      "needs_background": "light"
     },
     "output_type": "display_data"
    }
   ],
   "source": [
    "fig,axs = plt.subplots(1,1,figsize=(5,3.5))\n",
    "axs = [axs]\n",
    "\n",
    "#axs[0].plot(1/βs,Zβ,color='k',lw=.5,label='exact')\n",
    "\n",
    "for i,exper in enumerate(experiments):\n",
    "\n",
    "    Zβ_ = Zβs[i]\n",
    "    label = exper['label']\n",
    "    ls = exper['ls']\n",
    "    c = 'k'\n",
    "    \n",
    "    σ=.1\n",
    "\n",
    "    err_rel = np.abs(1-Zβ_/Zβ)\n",
    "    axs[0].plot(1/βs,np.quantile(err_rel,1-σ,axis=0),\\\n",
    "                lw=1,ls=ls,color=c,label=label)\n",
    "    \n",
    "#    err_abs = np.abs(Zβ_-Zβ)\n",
    "#    axs[2].plot(1/βs,np.quantile(err_abs,1-σ,axis=0),\\\n",
    "#                lw=1,ls=ls,color=c)\n",
    "    \n",
    "    axs[0].set_xlabel('$1/\\\\beta$')\n",
    "    axs[0].set_xscale('log')\n",
    "\n",
    "axs[0].legend()\n",
    "\n",
    "axs[0].set_ylabel('relative error')\n",
    "axs[0].set_xlabel('$1/\\\\beta$')\n",
    "\n",
    "axs[0].set_yscale('log')\n",
    "\n",
    "plt.savefig('imgs/partition_function_comparison.pdf',bbox_inches='tight')"
   ]
  },
  {
   "cell_type": "code",
   "execution_count": null,
   "metadata": {},
   "outputs": [],
   "source": []
  },
  {
   "cell_type": "code",
   "execution_count": null,
   "metadata": {},
   "outputs": [],
   "source": []
  },
  {
   "cell_type": "code",
   "execution_count": 34,
   "metadata": {},
   "outputs": [
    {
     "data": {
      "image/png": "[encoded data removed]",
      "text/plain": [
       "<Figure size 720x288 with 2 Axes>"
      ]
     },
     "metadata": {
      "needs_background": "light"
     },
     "output_type": "display_data"
    }
   ],
   "source": [
    "fig,axs = plt.subplots(1,2,figsize=(10,4))\n",
    "\n",
    "\n",
    "axs[0].plot(1/βs,Zβ,color='k',lw=.5,label='exact')\n",
    "\n",
    "for i,exper in enumerate(experiments):\n",
    "\n",
    "    Zβ_ = Zβs[i]\n",
    "    label = exper['label']\n",
    "    ls = exper['ls']\n",
    "    c = 'k'\n",
    "    \n",
    "    σ=.1\n",
    "    axs[0].plot(1/βs,np.quantile(Zβ_,σ/2,axis=0),\\\n",
    "                lw=1,ls=ls,color=c,label=label)\n",
    "    axs[0].plot(1/βs,np.quantile(Zβ_,1-σ/2,axis=0),\\\n",
    "                lw=1,ls=ls,color=c)\n",
    "    axs[0].fill_between(1/βs,np.quantile(Zβ_,σ/2,axis=0),\\\n",
    "                             np.quantile(Zβ_,1-σ/2,axis=0),\\\n",
    "                             fc=(0,0,0,.2))\n",
    "    \n",
    "    err_rel = np.abs(1-Zβ_/Zβ)\n",
    "    axs[1].plot(1/βs,np.quantile(err_rel,1-σ,axis=0),\\\n",
    "                lw=1,ls=ls,color=c)\n",
    "    \n",
    "#    err_abs = np.abs(Zβ_-Zβ)\n",
    "#    axs[2].plot(1/βs,np.quantile(err_abs,1-σ,axis=0),\\\n",
    "#                lw=1,ls=ls,color=c)\n",
    "    \n",
    "for i in range(2):\n",
    "    axs[i].set_xlabel('$1/\\\\beta$')\n",
    "    axs[i].set_xscale('log')\n",
    "\n",
    "axs[0].legend()\n",
    "axs[0].set_title('approximations to $Z(\\\\beta)$')\n",
    "axs[0].set_yscale('log')\n",
    "\n",
    "axs[1].set_title('relative error')\n",
    "axs[1].set_yscale('log')\n",
    "#axs[1].set_ylim(-1e0,1e0)\n",
    "\n",
    "#axs[2].set_title('absolute error')\n",
    "#axs[2].set_yscale('log')\n",
    "#axs[2].set_ylim(-1e3,1e3)\n",
    "\n",
    "\n",
    "plt.savefig('imgs/partition_function_comparison.pdf',bbox_inches='tight')"
   ]
  },
  {
   "cell_type": "code",
   "execution_count": null,
   "metadata": {},
   "outputs": [],
   "source": []
  }
 ],
 "metadata": {
  "kernelspec": {
   "display_name": "Python 3",
   "language": "python",
   "name": "python3"
  },
  "language_info": {
   "codemirror_mode": {
    "name": "ipython",
    "version": 3
   },
   "file_extension": ".py",
   "mimetype": "text/x-python",
   "name": "python",
   "nbconvert_exporter": "python",
   "pygments_lexer": "ipython3",
   "version": "3.8.3"
  }
 },
 "nbformat": 4,
 "nbformat_minor": 4
}
