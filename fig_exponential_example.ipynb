{
 "cells": [
  {
   "cell_type": "code",
   "execution_count": 1,
   "metadata": {},
   "outputs": [],
   "source": [
    "import numpy as np\n",
    "import scipy as sp\n",
    "from scipy import io,integrate,sparse\n",
    "import matplotlib.pyplot as plt\n",
    "from matplotlib.lines import Line2D\n",
    "from matplotlib.patches import Rectangle,Circle\n",
    "\n",
    "from lanczos_bin import *\n",
    "#from lanczos_bin import mystep,distribution\n",
    "\n",
    "from IPython.display import clear_output\n",
    "np.set_printoptions(linewidth=300)\n",
    "%load_ext autoreload\n",
    "%autoreload 2"
   ]
  },
  {
   "cell_type": "code",
   "execution_count": null,
   "metadata": {},
   "outputs": [],
   "source": [
    "plt.rcParams['text.latex.preamble'] = r'\\usepackage{amsmath}\\renewcommand{\\vec}{\\mathbf}'\n",
    "plt.rc('text', usetex=True)\n",
    "plt.rc('font', family='serif')"
   ]
  },
  {
   "cell_type": "code",
   "execution_count": 24,
   "metadata": {},
   "outputs": [],
   "source": [
    "s = 1/2\n",
    "M = int(2*s+1)\n",
    "\n",
    "x,y = 3,2\n",
    "\n",
    "N = x*y\n",
    "n = M**N\n",
    "\n",
    "J = 1\n",
    "h = 1*J\n",
    "\n",
    "Jz_T = h*np.ones(N)\n",
    "J_T = np.zeros((N,N))\n",
    "for i in range(N):\n",
    "    for j in range(N):\n",
    "        if i//x==j//x and np.abs(i-j)==1: # horizontal neighbor\n",
    "            J_T[i,j] = 1\n",
    "        if i%x==j%x and np.abs(i-j)==x:# vertical neighbor\n",
    "            J_T[i,j] = -.45"
   ]
  },
  {
   "cell_type": "code",
   "execution_count": 25,
   "metadata": {},
   "outputs": [],
   "source": [
    "H_T = get_hamiltonian(J_T,J_T,Jz_T,s).tosparse().A"
   ]
  },
  {
   "cell_type": "code",
   "execution_count": 26,
   "metadata": {},
   "outputs": [],
   "source": [
    "lam = np.linalg.eigvalsh(H_T)\n",
    "E0 = np.min(lam)"
   ]
  },
  {
   "cell_type": "code",
   "execution_count": 40,
   "metadata": {},
   "outputs": [],
   "source": [
    "xx = np.linspace(lam[0],lam[-1],300)\n",
    "Ts = [5e-2,1e0,7e0,1e2]\n",
    "βs = 1/np.array(Ts)"
   ]
  },
  {
   "cell_type": "code",
   "execution_count": 44,
   "metadata": {},
   "outputs": [
    {
     "data": {
      "image/png": "[encoded data removed]",
      "text/plain": [
       "<Figure size 576x144 with 4 Axes>"
      ]
     },
     "metadata": {
      "needs_background": "light"
     },
     "output_type": "display_data"
    }
   ],
   "source": [
    "fig,axs = plt.subplots(1,len(βs),figsize=(8,2))\n",
    "fig.subplots_adjust(wspace=0.1)\n",
    "\n",
    "\n",
    "for i,β in enumerate(βs):\n",
    "    \n",
    "    f = lambda x: np.exp(-β*(x-E0))\n",
    "    \n",
    "#    axs[i].vlines(lam, 0, f(lam),lw=.5,color='k')\n",
    "#    axs[i].hlines(f(lam), 0, lam,lw=.5,color='k')\n",
    "\n",
    "    axs[i].plot(lam,f(lam),linestyle='None',marker='.',color='k')\n",
    "    axs[i].plot(xx,f(xx),color='k')\n",
    "    \n",
    "    axs[i].set_xticks(lam)\n",
    "    axs[i].set_xticklabels([])\n",
    "    \n",
    "    axs[i].set_yticks(f(lam))\n",
    "    axs[i].set_yticklabels([])\n",
    "    \n",
    "    axs[i].set_ylim(-.1,1.1)\n",
    "    \n",
    "    axs[i].set_xlabel('eigenvalues of $\\mathbf{A}$')\n",
    "axs[0].set_ylabel('eigenvalues of $f(\\mathbf{A})$')\n",
    "\n",
    "plt.suptitle('large $\\\\beta$ \\hspace{2em}$\\\\xrightarrow{\\hspace{8em}}$\\hspace{2em} small $\\\\beta$')\n",
    "#    axs[i].yaxis.set_tick_params(width=1)\n",
    "\n",
    "plt.savefig('imgs/exp_example.pdf',bbox_inches='tight')"
   ]
  },
  {
   "cell_type": "code",
   "execution_count": null,
   "metadata": {},
   "outputs": [],
   "source": []
  }
 ],
 "metadata": {
  "kernelspec": {
   "display_name": "Python 3 (ipykernel)",
   "language": "python",
   "name": "python3"
  },
  "language_info": {
   "codemirror_mode": {
    "name": "ipython",
    "version": 3
   },
   "file_extension": ".py",
   "mimetype": "text/x-python",
   "name": "python",
   "nbconvert_exporter": "python",
   "pygments_lexer": "ipython3",
   "version": "3.10.9"
  }
 },
 "nbformat": 4,
 "nbformat_minor": 4
}
